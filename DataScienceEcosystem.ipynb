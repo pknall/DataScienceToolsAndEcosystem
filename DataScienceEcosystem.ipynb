{
 "cells": [
  {
   "cell_type": "markdown",
   "id": "68aa9eca-16ad-4e3d-9f76-69958e98f90b",
   "metadata": {},
   "source": [
    "# Data Science Tools and Ecosystem"
   ]
  },
  {
   "cell_type": "markdown",
   "id": "15efaff8-9220-4d9b-8a39-e2ff80fac346",
   "metadata": {},
   "source": [
    "In this notebook, Data Science Tools and Ecosystem are summarized."
   ]
  },
  {
   "cell_type": "markdown",
   "id": "05d9efda-675e-4e3e-814b-78a749f16e68",
   "metadata": {},
   "source": [
    "**Objectives:**\n",
    "* List Popular languages for Data Science\n",
    "* List Popular libraries used by Data Scientists\n",
    "* Show an example of evaluating arithmetic expressions in Python"
   ]
  },
  {
   "cell_type": "markdown",
   "id": "c23b6305-50b5-4e5c-bdef-8778fb444521",
   "metadata": {},
   "source": [
    "Some popular languages that Data Scientists use are:\n",
    "1. C++\n",
    "2. R\n",
    "3. Python"
   ]
  },
  {
   "cell_type": "markdown",
   "id": "e7923bfd-5f35-46cc-b25a-c2ec748f5fcc",
   "metadata": {},
   "source": [
    "Some of the commonly used libraries used by Data Scientists include:\n",
    "1. Pandas\n",
    "2. Matplotlib\n",
    "3. Numpy"
   ]
  },
  {
   "cell_type": "markdown",
   "id": "13953f76-32d9-45f4-a676-0bf19aee7b9a",
   "metadata": {},
   "source": [
    "| Data Science Tools |\n",
    "|--------------------|\n",
    "| Spyder |\n",
    "| R-Studio |\n",
    "| Anaconda |\n"
   ]
  },
  {
   "cell_type": "markdown",
   "id": "c90cecfb-6647-4d2f-801c-1e6f4e1b78d6",
   "metadata": {},
   "source": [
    "### Below are a few examples of evaluating arithmetic expressions in Python."
   ]
  },
  {
   "cell_type": "code",
   "execution_count": 2,
   "id": "fb542ea7-999f-466c-998b-2933edceb90f",
   "metadata": {},
   "outputs": [
    {
     "data": {
      "text/plain": [
       "17"
      ]
     },
     "execution_count": 2,
     "metadata": {},
     "output_type": "execute_result"
    }
   ],
   "source": [
    "# This is a simple arithmetic expression to mulitoply then add integers.\n",
    "result = (3 * 4) + 5\n",
    "result\n"
   ]
  },
  {
   "cell_type": "code",
   "execution_count": 3,
   "id": "fa9afb26-c2c8-4e0d-bb06-b95afc87d628",
   "metadata": {},
   "outputs": [
    {
     "data": {
      "text/plain": [
       "3.3333333333333335"
      ]
     },
     "execution_count": 3,
     "metadata": {},
     "output_type": "execute_result"
    }
   ],
   "source": [
    "#This will convert 200 minutes to hours by dividing by 60\n",
    "result = 200 / 60\n",
    "result"
   ]
  },
  {
   "cell_type": "markdown",
   "id": "6e8b7a47-979c-4cb1-9178-36258e615958",
   "metadata": {},
   "source": [
    "## Author\n",
    "Peter Knall"
   ]
  },
  {
   "cell_type": "code",
   "execution_count": null,
   "id": "f772b6a9-6d8e-4cfa-bfef-9721860c350b",
   "metadata": {},
   "outputs": [],
   "source": []
  }
 ],
 "metadata": {
  "kernelspec": {
   "display_name": "Python 3 (ipykernel)",
   "language": "python",
   "name": "python3"
  },
  "language_info": {
   "codemirror_mode": {
    "name": "ipython",
    "version": 3
   },
   "file_extension": ".py",
   "mimetype": "text/x-python",
   "name": "python",
   "nbconvert_exporter": "python",
   "pygments_lexer": "ipython3",
   "version": "3.11.5"
  }
 },
 "nbformat": 4,
 "nbformat_minor": 5
}
